{
  "nbformat": 4,
  "nbformat_minor": 0,
  "metadata": {
    "colab": {
      "name": "IMDB.ipynb",
      "provenance": [],
      "authorship_tag": "ABX9TyNyVSN6uuPijB64f+R3UxKm",
      "include_colab_link": true
    },
    "kernelspec": {
      "name": "python3",
      "display_name": "Python 3"
    },
    "language_info": {
      "name": "python"
    }
  },
  "cells": [
    {
      "cell_type": "markdown",
      "metadata": {
        "id": "view-in-github",
        "colab_type": "text"
      },
      "source": [
        "<a href=\"https://colab.research.google.com/github/nazreenshah/3D_Reconstruction_Tomography/blob/master/IMDB.ipynb\" target=\"_parent\"><img src=\"https://colab.research.google.com/assets/colab-badge.svg\" alt=\"Open In Colab\"/></a>"
      ]
    },
    {
      "cell_type": "code",
      "execution_count": null,
      "metadata": {
        "id": "Gwq8EmmAi_jg"
      },
      "outputs": [],
      "source": [
        "#Import libraries\n",
        "import tensorflow as tf #TensorFlow\n",
        "import tensorflow_datasets as tfds #Datasets\n",
        "import numpy as np #linear algebra\n",
        "import matplotlib.pyplot as plt #Data visualization\n",
        "\n",
        "#Make sure TensorFlow is version 2.0 or higher\n",
        "print('TensorFlow Version:', tf.__version__)"
      ]
    }
  ]
}